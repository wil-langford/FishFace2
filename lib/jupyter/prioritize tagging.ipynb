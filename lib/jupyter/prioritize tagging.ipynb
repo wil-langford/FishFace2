{
 "cells": [
  {
   "cell_type": "code",
   "execution_count": null,
   "metadata": {
    "collapsed": false
   },
   "outputs": [],
   "source": [
    "import lib.django.djff.models as dm\n",
    "\n",
    "def prioritize_images(list_of_images, priority=5):\n",
    "    id_list = [x.id for x in list(list_of_images)]\n",
    "    for image_id in id_list:\n",
    "        prior = dm.PriorityManualImage()\n",
    "        prior.image_id = image_id\n",
    "        prior.priority = priority\n",
    "        prior.save()\n",
    "\n",
    "all_data_images = dm.Image.objects.filter(is_cal_image=False)"
   ]
  },
  {
   "cell_type": "markdown",
   "metadata": {},
   "source": [
    "### Select Images\n",
    "After running the cell above to set things up, you'll need to select\n",
    "the images you want to prioritize."
   ]
  },
  {
   "cell_type": "code",
   "execution_count": 13,
   "metadata": {
    "collapsed": false
   },
   "outputs": [],
   "source": [
    "## EXAMPLE: Get all images from experiment 11.\n",
    "xp_11_images = all_data_images.filter(xp_id=156)"
   ]
  },
  {
   "cell_type": "code",
   "execution_count": 3,
   "metadata": {
    "collapsed": false
   },
   "outputs": [],
   "source": [
    "## EXAMPLE: Get all images from CJRs 140, 158, and 161.\n",
    "selected_cjrs_images = all_data_images.filter(cjr_id__in=[140,158,161])"
   ]
  },
  {
   "cell_type": "code",
   "execution_count": 4,
   "metadata": {
    "collapsed": true
   },
   "outputs": [],
   "source": [
    "## EXAMPLE: Get all images from experiments 11 and 94.\n",
    "selected_xps_images = all_data_images.filter(xp_id__in=[11,94])"
   ]
  },
  {
   "cell_type": "code",
   "execution_count": 26,
   "metadata": {
    "collapsed": false
   },
   "outputs": [
    {
     "name": "stdout",
     "output_type": "stream",
     "text": [
      "5040 / 25200 = 5.0\n"
     ]
    }
   ],
   "source": [
    "## EXAMPLE: Get every 13th image from experiment 94.\n",
    "xp_94_images = all_data_images.filter(xp_id__in=[156,157,158,159,162])\n",
    "every_13th = list(xp_94_images)[::5]\n",
    "print \"{} / {} = {}\".format(len(every_13th),\n",
    "                            xp_94_images.count(),\n",
    "                            float(xp_94_images.count()) / len(every_13th))\n"
   ]
  },
  {
   "cell_type": "markdown",
   "metadata": {},
   "source": [
    "### Store Priorities - DON'T FORGET TO DO THIS - This is what actually queues the images to be tagged\n",
    "After you select the images, you'll need to actually prioritize them using the function defined in the first cell of this notebook: `prioritize_images`.\n",
    "\n",
    "The default priority is 5.  Lower numbered priorities (e.g. 3) will run before higher numbered priorities (e.g. 10)."
   ]
  },
  {
   "cell_type": "code",
   "execution_count": 27,
   "metadata": {
    "collapsed": false
   },
   "outputs": [],
   "source": [
    "## This can take some time.\n",
    "prioritize_images(every_13th, priority=100) # very low priority\n",
    "#prioritize_images(every_13th) # very low priority"
   ]
  },
  {
   "cell_type": "markdown",
   "metadata": {
    "collapsed": true
   },
   "source": [
    "# This can take some time.\n",
    "prioritize_images(every_13th) # very low priority"
   ]
  },
  {
   "cell_type": "markdown",
   "metadata": {},
   "source": [
    "### Check Current Priorities"
   ]
  },
  {
   "cell_type": "code",
   "execution_count": 28,
   "metadata": {
    "collapsed": false
   },
   "outputs": [
    {
     "name": "stdout",
     "output_type": "stream",
     "text": [
      "10807\n"
     ]
    }
   ],
   "source": [
    "## EXAMPLE: Find out how many images are currently prioritized.\n",
    "print dm.PriorityManualImage.objects.count()"
   ]
  },
  {
   "cell_type": "code",
   "execution_count": 16,
   "metadata": {
    "collapsed": false
   },
   "outputs": [
    {
     "name": "stdout",
     "output_type": "stream",
     "text": [
      "set([1184, 1179, 1180, 1181, 1182, 1183])\n"
     ]
    }
   ],
   "source": [
    "## EXAMPLE: Find out which CJRs contain prioritized images.\n",
    "cjr_list = [x.image.cjr_id for x in dm.PriorityManualImage.objects.all()]\n",
    "print set(cjr_list)"
   ]
  },
  {
   "cell_type": "code",
   "execution_count": null,
   "metadata": {
    "collapsed": false
   },
   "outputs": [],
   "source": [
    "## EXAMPLE: Find out the proportion of images for experiment 70 that are tagged.\n",
    "images_in_xp_70 = dm.Image.objects.filter(xp_id=70).count()\n",
    "tags_for_xp_70 = dm.ManualTag.objects.filter(image__xp_id=70).count()\n",
    "print \"{} / {} = {}\".format(tags_for_xp_70, images_in_xp_70, float(tags_for_xp_70) / images_in_xp_70)"
   ]
  },
  {
   "cell_type": "markdown",
   "metadata": {},
   "source": [
    "### Clear Current Priorities\n",
    "Delete all of the current priorities."
   ]
  },
  {
   "cell_type": "code",
   "execution_count": 11,
   "metadata": {
    "collapsed": false
   },
   "outputs": [],
   "source": [
    "### WARNING ###\n",
    "### THIS WILL DELETE ALL OF YOUR PRIORITIES ###\n",
    "### WARNING ###\n",
    "\n",
    "dm.PriorityManualImage.objects.all().delete()"
   ]
  },
  {
   "cell_type": "code",
   "execution_count": null,
   "metadata": {
    "collapsed": false
   },
   "outputs": [],
   "source": [
    "## EXAMPLE: Delete the priorities for experiment 11, if any.\n",
    "dm.PriorityManualImage.objects.filter(image__xp_id=11).delete()"
   ]
  }
 ],
 "metadata": {
  "kernelspec": {
   "display_name": "Python 2",
   "language": "python",
   "name": "python2"
  },
  "language_info": {
   "codemirror_mode": {
    "name": "ipython",
    "version": 2
   },
   "file_extension": ".py",
   "mimetype": "text/x-python",
   "name": "python",
   "nbconvert_exporter": "python",
   "pygments_lexer": "ipython2",
   "version": "2.7.9"
  }
 },
 "nbformat": 4,
 "nbformat_minor": 0
}

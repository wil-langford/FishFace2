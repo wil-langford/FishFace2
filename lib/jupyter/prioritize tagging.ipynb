{
 "cells": [
  {
   "cell_type": "code",
   "execution_count": null,
   "metadata": {
    "collapsed": true
   },
   "outputs": [],
   "source": [
    "import lib.django.djff.models as dm\n",
    "\n",
    "def prioritize_images(list_of_images, priority=5):\n",
    "    id_list = [x.id for x in list(list_of_images)]\n",
    "    for image_id in id_list:\n",
    "        prior = dm.PriorityManualImage()\n",
    "        prior.image_id = image_id\n",
    "        prior.priority = priority\n",
    "        prior.save()\n",
    "\n",
    "all_data_images = dm.Image.objects.filter(is_cal_image=False)"
   ]
  },
  {
   "cell_type": "markdown",
   "metadata": {},
   "source": [
    "### Select Images\n",
    "After running the cell above to set things up, you'll need to select\n",
    "the images you want to prioritize."
   ]
  },
  {
   "cell_type": "code",
   "execution_count": null,
   "metadata": {
    "collapsed": false
   },
   "outputs": [],
   "source": [
    "## EXAMPLE: Get all images from experiment 11.\n",
    "xp_11_images = all_data_images.filter(xp_id=11)"
   ]
  },
  {
   "cell_type": "code",
   "execution_count": null,
   "metadata": {
    "collapsed": false
   },
   "outputs": [],
   "source": [
    "## EXAMPLE: Get all images from CJRs 140, 158, and 161.\n",
    "selected_cjrs_images = all_data_images.filter(cjr_id__in=[140,158,161])"
   ]
  },
  {
   "cell_type": "code",
   "execution_count": null,
   "metadata": {
    "collapsed": true
   },
   "outputs": [],
   "source": [
    "## EXAMPLE: Get all images from experiments 11 and 94.\n",
    "selected_xps_images = all_data_images.filter(xp_id__in=[11,94])"
   ]
  },
  {
   "cell_type": "code",
   "execution_count": null,
   "metadata": {
    "collapsed": false
   },
   "outputs": [],
   "source": [
    "## EXAMPLE: Get every 13th image from experiment 94.\n",
    "xp_94_images = all_data_images.filter(xp_id=94)\n",
    "every_13th = list(xp_94_images)[::13]\n",
    "print \"{} / {} = {}\".format(len(every_13th),\n",
    "                            xp_94_images.count(),\n",
    "                            float(xp_94_images.count()) / len(every_13th))"
   ]
  },
  {
   "cell_type": "markdown",
   "metadata": {},
   "source": [
    "### Store Priorities\n",
    "After you select the images, you'll need to actually prioritize them using the function defined in the first cell of this notebook: `prioritize_images`.\n",
    "\n",
    "The default priority is 5.  Lower numbered priorities (e.g. 3) will run before higher numbered priorities (e.g. 10)."
   ]
  },
  {
   "cell_type": "code",
   "execution_count": null,
   "metadata": {
    "collapsed": true
   },
   "outputs": [],
   "source": [
    "## This can take some time.\n",
    "prioritize_images(selected_xps_images, priority=99) # very low priority"
   ]
  },
  {
   "cell_type": "markdown",
   "metadata": {},
   "source": [
    "### Check Current Priorities"
   ]
  },
  {
   "cell_type": "code",
   "execution_count": null,
   "metadata": {
    "collapsed": false
   },
   "outputs": [],
   "source": [
    "## EXAMPLE: Find out how many images are currently prioritized.\n",
    "print dm.PriorityManualImage.objects.count()"
   ]
  },
  {
   "cell_type": "code",
   "execution_count": null,
   "metadata": {
    "collapsed": false
   },
   "outputs": [],
   "source": [
    "## EXAMPLE: Find out which CJRs contain prioritized images.\n",
    "cjr_list = [x.image.cjr_id for x in dm.PriorityManualImage.objects.all()]\n",
    "print set(cjr_list)"
   ]
  },
  {
   "cell_type": "markdown",
   "metadata": {},
   "source": [
    "### Clear Current Priorities\n",
    "Delete all of the current priorities."
   ]
  },
  {
   "cell_type": "code",
   "execution_count": null,
   "metadata": {
    "collapsed": true
   },
   "outputs": [],
   "source": [
    "### WARNING ###\n",
    "### THIS WILL DELETE ALL OF YOUR PRIORITIES ###\n",
    "### WARNING ###\n",
    "\n",
    "# dm.PriorityManualImage.objects.all().delete()"
   ]
  },
  {
   "cell_type": "code",
   "execution_count": null,
   "metadata": {
    "collapsed": false
   },
   "outputs": [],
   "source": [
    "## EXAMPLE: Delete the priorities for experiment 11, if any.\n",
    "dm.PriorityManualImage.objects.filter(image__xp_id=11).delete()"
   ]
  }
 ],
 "metadata": {
  "kernelspec": {
   "display_name": "Python 2",
   "language": "python",
   "name": "python2"
  },
  "language_info": {
   "codemirror_mode": {
    "name": "ipython",
    "version": 2
   },
   "file_extension": ".py",
   "mimetype": "text/x-python",
   "name": "python",
   "nbconvert_exporter": "python",
   "pygments_lexer": "ipython2",
   "version": "2.7.9"
  }
 },
 "nbformat": 4,
 "nbformat_minor": 0
}
